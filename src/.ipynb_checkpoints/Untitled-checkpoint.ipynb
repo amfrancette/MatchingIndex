{
 "cells": [
  {
   "cell_type": "code",
   "execution_count": null,
   "metadata": {},
   "outputs": [],
   "source": [
    "#!/usr/bin/python3\n",
    "# cd /Users/amf198/Documents/GitHub/MatchingIndex\n",
    "# python3 src/test.py\n",
    "\n",
    "import csv\n",
    "\n",
    "fh = open(\"data/MenteePairingSurvey2022.csv\")\n",
    "surveyData = fh.readline()\n",
    "print(surveyData[:-1].split(\",\")])\n",
    "\n",
    "#print(surveyData.split(':')[0][3:])\n",
    "#print(file.readlines())\n",
    "fh.close()"
   ]
  }
 ],
 "metadata": {
  "kernelspec": {
   "display_name": "Python 3",
   "language": "python",
   "name": "python3"
  },
  "language_info": {
   "codemirror_mode": {
    "name": "ipython",
    "version": 3
   },
   "file_extension": ".py",
   "mimetype": "text/x-python",
   "name": "python",
   "nbconvert_exporter": "python",
   "pygments_lexer": "ipython3",
   "version": "3.8.3"
  }
 },
 "nbformat": 4,
 "nbformat_minor": 4
}
